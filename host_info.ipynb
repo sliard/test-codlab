{
  "nbformat": 4,
  "nbformat_minor": 0,
  "metadata": {
    "colab": {
      "provenance": [],
      "authorship_tag": "ABX9TyP8YK3I8cnXp7CmE+Vz3IrL",
      "include_colab_link": true
    },
    "kernelspec": {
      "name": "python3",
      "display_name": "Python 3"
    },
    "language_info": {
      "name": "python"
    }
  },
  "cells": [
    {
      "cell_type": "markdown",
      "metadata": {
        "id": "view-in-github",
        "colab_type": "text"
      },
      "source": [
        "<a href=\"https://colab.research.google.com/github/sliard/test-codlab/blob/master/host_info.ipynb\" target=\"_parent\"><img src=\"https://colab.research.google.com/assets/colab-badge.svg\" alt=\"Open In Colab\"/></a>"
      ]
    },
    {
      "cell_type": "markdown",
      "source": [
        "BABBAR API\n"
      ],
      "metadata": {
        "id": "FpI3e6iznS31"
      }
    },
    {
      "cell_type": "markdown",
      "source": [
        "**Votre clé API**"
      ],
      "metadata": {
        "id": "q42M9AjrnepR"
      }
    },
    {
      "cell_type": "code",
      "source": [
        "#@title Add Babbar api key 🤗\n",
        "\n",
        "#@markdown Get your  [key](https://www.babbar.tech/settings#/api).\n",
        "!mkdir -p ~/.babbar\n",
        "BABBAR_TOKEN = \"\" #@param {type:\"string\"}\n",
        "\n",
        "!echo -n \"{BABBAR_TOKEN}\" > ~/.babbar/token"
      ],
      "metadata": {
        "id": "tJCPz-95oIXl"
      },
      "execution_count": 4,
      "outputs": []
    },
    {
      "cell_type": "code",
      "source": [],
      "metadata": {
        "id": "-SqYUZk8rdd-"
      },
      "execution_count": null,
      "outputs": []
    },
    {
      "cell_type": "code",
      "source": [
        "HOST = \"babbar.tech\" #@param {type:\"string\"}\n",
        "\n",
        "import requests\n",
        "from requests.structures import CaseInsensitiveDict\n",
        "\n",
        "headers = CaseInsensitiveDict()\n",
        "url = 'https://www.babbar.tech/api/host/overview/main'\n",
        "headers = {\n",
        "    'accept': 'application/json',\n",
        "    'Content-Type': 'application/json'\n",
        "}\n",
        "data = {\n",
        "    'host': HOST\n",
        "}\n",
        "params = {\n",
        "    'api_token': BABBAR_TOKEN\n",
        "}\n",
        "response = requests.post(url, headers=headers, json=data, params=params).json()\n",
        "\n",
        "print(\"** \" + HOST)\n",
        "print(\"hostValue=\" + str(response['hostValue']))\n",
        "print(\"hostTrust=\" + str(response['hostTrust']))\n",
        "print(\"semanticValue=\" + str(response['semanticValue']))\n",
        "print(\"babbarAuthorityScore=\" + str(response['babbarAuthorityScore']))\n",
        "print(\"backlinks.linkCount=\" + str(response['backlinks']['linkCount']))\n",
        "print(\"backlinks.hostCount=\" + str(response['backlinks']['hostCount']))"
      ],
      "metadata": {
        "colab": {
          "base_uri": "https://localhost:8080/"
        },
        "id": "8Dxym20zq6c6",
        "outputId": "bd17164e-9c06-427f-e23b-3c4982e633e2"
      },
      "execution_count": 9,
      "outputs": [
        {
          "output_type": "stream",
          "name": "stdout",
          "text": [
            "** babbar.tech\n",
            "hostValue=90\n",
            "hostTrust=78\n",
            "semanticValue=90\n",
            "babbarAuthorityScore=78\n",
            "backlinks.linkCount=2926541\n",
            "backlinks.hostCount=34936\n"
          ]
        }
      ]
    }
  ]
}